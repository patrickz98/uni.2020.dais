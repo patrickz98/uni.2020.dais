{
 "cells": [
  {
   "cell_type": "code",
   "execution_count": null,
   "metadata": {},
   "outputs": [],
   "source": [
    "from sklearn.datasets import make_blobs\n",
    "import matplotlib.pyplot as plt\n",
    "from sklearn.cluster import KMeans\n",
    "from sklearn import metrics"
   ]
  },
  {
   "cell_type": "code",
   "execution_count": null,
   "metadata": {},
   "outputs": [],
   "source": [
    "# number of samples\n",
    "\n",
    "X, y = make_blobs(n_samples = 5000, cluster_std=2.5,\n",
    "                  random_state = 42)\n",
    "# get the first impression of the data distribution\n",
    "plt.scatter(X[:,0], X[:,1])"
   ]
  },
  {
   "cell_type": "code",
   "execution_count": null,
   "metadata": {},
   "outputs": [],
   "source": [
    "# Find the best k, here, the one with minimum sum of squared distances between each datapoint to its nearest centroid\n",
    "# You can get the sum of squared distances with 'kmeans.inertia_'\n",
    "\n",
    "sum_squaredDistances=[]\n",
    "silhouette=[]\n",
    "k_best = range(2,16)\n",
    "for i in k_best:\n",
    "    kmeans = KMeans(n_clusters=i, random_state = 0)\n",
    "    kmeans.fit(X)\n",
    "    sum_squaredDistances.append(kmeans.inertia_)\n",
    "    silhouette.append(metrics.silhouette_score(X, kmeans.labels_))\n",
    "    \n",
    "    \n",
    "# Plot the range of k_best against the sum of squared distances; you should see an elbow-like curve\n",
    "plt.plot(k_best, sum_squaredDistances, 'ro-')\n",
    "plt.xlabel('Number of clusters k')\n",
    "plt.ylabel('Sum of squared_distances')\n",
    "plt.show()\n",
    "\n",
    "# Plot the range of k_best against the sum of squared distances; you should see an elbow-like curve\n",
    "plt.plot(k_best, silhouette, 'go-')\n",
    "plt.xlabel('Number of clusters k')\n",
    "plt.ylabel('Silhouette coefficient')\n",
    "plt.show()\n",
    "\n"
   ]
  },
  {
   "cell_type": "code",
   "execution_count": null,
   "metadata": {},
   "outputs": [],
   "source": []
  }
 ],
 "metadata": {
  "kernelspec": {
   "display_name": "Python 3",
   "language": "python",
   "name": "python3"
  },
  "language_info": {
   "codemirror_mode": {
    "name": "ipython",
    "version": 3
   },
   "file_extension": ".py",
   "mimetype": "text/x-python",
   "name": "python",
   "nbconvert_exporter": "python",
   "pygments_lexer": "ipython3",
   "version": "3.8.3"
  }
 },
 "nbformat": 4,
 "nbformat_minor": 2
}
