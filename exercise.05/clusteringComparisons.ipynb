{
 "cells": [
  {
   "cell_type": "code",
   "execution_count": null,
   "metadata": {},
   "outputs": [],
   "source": [
    "from sklearn.datasets import make_circles\n",
    "from sklearn.datasets import make_moons\n",
    "from sklearn.datasets import make_swiss_roll\n",
    "import matplotlib.pyplot as plt\n",
    "import numpy as np\n",
    "from sklearn.cluster import KMeans"
   ]
  },
  {
   "cell_type": "code",
   "execution_count": null,
   "metadata": {},
   "outputs": [],
   "source": [
    "# specify number of samples\n",
    "no_samples = 1500 # vary if you want\n",
    "noise_factor=.05 # vary if you want; e.g. .5 -> circles become one\n",
    "\n",
    "# Create the two circles dataset, add some noise\n",
    "X_circle, _ = make_circles(n_samples=no_samples, factor=.5, noise=noise_factor)\n",
    "\n",
    "kmeans = KMeans(n_clusters = 2, random_state = 42) #you can vary the random_state but you will never get cluster 1 for the center circle and cluster 2 for the extern circle\n",
    "kmeans.fit(X_circle)\n",
    "\n",
    "plt.scatter(X_circle[:, 0], X_circle[:, 1],c = kmeans.labels_)\n",
    "plt.scatter(kmeans.cluster_centers_[:, 0], kmeans.cluster_centers_[:, 1], s = 50, c = 'green')"
   ]
  },
  {
   "cell_type": "code",
   "execution_count": null,
   "metadata": {},
   "outputs": [],
   "source": [
    "# create two half moons and try to fit them with kmeans\n",
    "X_moon,_ = make_moons(n_samples=no_samples, noise=noise_factor)\n",
    "\n",
    "\n",
    "kmeans = KMeans(n_clusters = 2, random_state = 1) #you can vary the random_state but you will never get cluster 1 for the half moon left and cluster 2 for half moon right\n",
    "kmeans.fit(X_moon)\n",
    "\n",
    "plt.scatter(X_moon[:, 0], X_moon[:, 1],c = kmeans.labels_)\n",
    "plt.scatter(kmeans.cluster_centers_[:, 0], kmeans.cluster_centers_[:, 1], s = 50, c = 'green')"
   ]
  },
  {
   "cell_type": "code",
   "execution_count": null,
   "metadata": {},
   "outputs": [],
   "source": [
    "# Try out the datasets with agglomerative clustering and different linkages (single, average, complete)\n",
    "# Here exemplary for single linkage; you can vary the noise level as well, the rest is quite straightforward\n",
    "# scikit learn also provides broad tutorials on clustering topics including code that simply collects all possible\n",
    "# procedures into one executable loop\n",
    "from sklearn.cluster import AgglomerativeClustering\n",
    "\n",
    "aggloCluster_single=AgglomerativeClustering(n_clusters=2, linkage='single')\n",
    "aggloCluster_single.fit(X_moon)\n",
    "\n",
    "\n",
    "plt.scatter(X_moon[:, 0], X_moon[:, 1],c = aggloCluster_single.labels_)\n",
    "plt.title('Hierarchical clustering with single linkage for half moon data')"
   ]
  },
  {
   "cell_type": "code",
   "execution_count": null,
   "metadata": {},
   "outputs": [],
   "source": [
    "# Try out the datasets with the DBSCAN algorithm\n",
    "from sklearn.cluster import DBSCAN\n",
    "dbscan=DBSCAN(algorithm='auto', eps=0.3, leaf_size=30, metric='euclidean',\n",
    "    metric_params=None, min_samples=20, n_jobs=None, p=None)\n",
    "\n",
    "dbscan.fit(X_moon)\n",
    "plt.scatter(X_moon[:, 0], X_moon[:, 1],c = dbscan.labels_)"
   ]
  },
  {
   "cell_type": "code",
   "execution_count": null,
   "metadata": {},
   "outputs": [],
   "source": [
    "# Here an example showing that DBSCAN identifies outlier -> increase in noise level\n",
    "X_moon_noisy,_ = make_moons(n_samples=no_samples, noise=0.1)\n",
    "dbscan=DBSCAN(algorithm='auto', eps=0.1, leaf_size=30, metric='euclidean',\n",
    "    metric_params=None, min_samples=10, n_jobs=None, p=None)\n",
    "\n",
    "dbscan.fit(X_moon_noisy)\n",
    "plt.scatter(X_moon_noisy[:, 0], X_moon_noisy[:, 1],c = dbscan.labels_)"
   ]
  },
  {
   "cell_type": "code",
   "execution_count": null,
   "metadata": {},
   "outputs": [],
   "source": [
    "%matplotlib notebook\n",
    "X_swiss, y = make_swiss_roll(no_samples, noise=noise_factor)\n",
    "\n",
    "kmeans = KMeans(n_clusters = 6, random_state = 42) #for six clusters here good results; focus here is that when projecting this roll into 2D, local neighbourhood should be preserved (geodesic distance, embedding learning, see ML)\n",
    "kmeans.fit(X_swiss)\n",
    "\n",
    "# Plot result\n",
    "import mpl_toolkits.mplot3d.axes3d as p3\n",
    "fig = plt.figure()\n",
    "ax = p3.Axes3D(fig)\n",
    "ax.view_init(7, -80)\n",
    "for l in np.unique(y):\n",
    "    ax.scatter(X_swiss[y == l, 0], X_swiss[y == l, 1], X_swiss[y == l, 2],\n",
    "               color=plt.cm.jet(float(l) / np.max(y + 1)),\n",
    "               s=20, edgecolor='k')\n",
    "plt.show()"
   ]
  },
  {
   "cell_type": "code",
   "execution_count": null,
   "metadata": {},
   "outputs": [],
   "source": []
  }
 ],
 "metadata": {
  "kernelspec": {
   "display_name": "Python 3",
   "language": "python",
   "name": "python3"
  },
  "language_info": {
   "codemirror_mode": {
    "name": "ipython",
    "version": 3
   },
   "file_extension": ".py",
   "mimetype": "text/x-python",
   "name": "python",
   "nbconvert_exporter": "python",
   "pygments_lexer": "ipython3",
   "version": "3.8.3"
  }
 },
 "nbformat": 4,
 "nbformat_minor": 2
}
