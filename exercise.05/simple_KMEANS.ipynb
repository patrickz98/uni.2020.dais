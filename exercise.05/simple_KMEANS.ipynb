{
 "cells": [
  {
   "cell_type": "code",
   "execution_count": null,
   "metadata": {},
   "outputs": [],
   "source": [
    "from sklearn.datasets.samples_generator import make_blobs\n",
    "import matplotlib.pyplot as plt\n",
    "from sklearn.cluster import KMeans"
   ]
  },
  {
   "cell_type": "code",
   "execution_count": null,
   "metadata": {},
   "outputs": [],
   "source": [
    "# number of samples\n",
    "\n",
    "X, y = make_blobs(n_samples = 1500,\n",
    "                  random_state = 42)\n",
    "# get the first impression of the data distribution\n",
    "plt.scatter(X[:,0], X[:,1])"
   ]
  },
  {
   "cell_type": "code",
   "execution_count": null,
   "metadata": {},
   "outputs": [],
   "source": [
    "# This part should be familiar to you from the last DAMI tutorial\n",
    "\n",
    "# 1. Create a model/classifier\n",
    "kmeans = KMeans(n_clusters = 3, random_state = 0)\n",
    "# 2. Train it\n",
    "kmeans.fit(X)\n",
    "\n",
    "# PLEASE NOTE: \n",
    "# you get centroids with 'kmeans.cluster_centers_'  ....\n",
    "# the \"labels\" (basically just an int from 0-number of clusters) with 'kmeans.labels_' ....\n",
    "# and the sum of squared distances of each datapoint to its nearest cluster with 'kmeans.inertia_'\n",
    "# Visualize the results\n",
    "\n",
    "plt.scatter(X[:, 0], X[:, 1],c = kmeans.labels_)\n",
    "plt.scatter(kmeans.cluster_centers_[:, 0], kmeans.cluster_centers_[:, 1], s = 50, c = 'black')"
   ]
  },
  {
   "cell_type": "code",
   "execution_count": null,
   "metadata": {},
   "outputs": [],
   "source": []
  },
  {
   "cell_type": "code",
   "execution_count": null,
   "metadata": {},
   "outputs": [],
   "source": []
  }
 ],
 "metadata": {
  "kernelspec": {
   "display_name": "Python 3.8.3 64-bit",
   "language": "python",
   "name": "python38364bite634e28f32b84717bc57c0447ddf70c2"
  },
  "language_info": {
   "codemirror_mode": {
    "name": "ipython",
    "version": 2
   },
   "file_extension": ".py",
   "mimetype": "text/x-python",
   "name": "python",
   "nbconvert_exporter": "python",
   "pygments_lexer": "ipython2",
   "version": "3.8.3-final"
  }
 },
 "nbformat": 4,
 "nbformat_minor": 2
}