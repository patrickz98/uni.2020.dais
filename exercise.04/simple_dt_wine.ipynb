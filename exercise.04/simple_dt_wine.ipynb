{
 "cells": [
  {
   "cell_type": "code",
   "execution_count": 6,
   "metadata": {},
   "outputs": [],
   "source": [
    "# Decision Tree\n",
    "# Import everything you need\n",
    "from sklearn.datasets import load_wine\n",
    "from sklearn.model_selection import train_test_split\n",
    "from sklearn import tree\n",
    "from sklearn import metrics\n",
    "from sklearn.metrics import classification_report,confusion_matrix\n"
   ]
  },
  {
   "cell_type": "code",
   "execution_count": 7,
   "metadata": {},
   "outputs": [
    {
     "name": "stdout",
     "output_type": "stream",
     "text": [
      "Accuracy:  83.33 %\n"
     ]
    }
   ],
   "source": [
    "# Load the data ... \n",
    "dataset = load_wine()\n",
    "\n",
    "# Split it in train and test set (mind the value for test_size and random_state- how does they affect your model?)\n",
    "X_train, X_test, y_train, y_test = train_test_split(dataset.data, dataset.target, test_size=0.10, random_state = 42)\n",
    "\n",
    "# Initialize a model and train it (yes, it is actually just the *.fit() call)\n",
    "dt_wine = tree.DecisionTreeClassifier()\n",
    "dt_wine = dt_wine.fit(X_train,y_train)\n",
    "\n",
    "# Compute the predictions with your trained model\n",
    "y_pred = dt_wine.predict(X_test)\n",
    "\n",
    "# Get a first impression: How did it work?\n",
    "test_accuracy= metrics.accuracy_score(y_test, y_pred)\n",
    "print(\"Accuracy: \", '%.2f'% (test_accuracy*100),\"%\")\n"
   ]
  },
  {
   "cell_type": "code",
   "execution_count": 8,
   "metadata": {},
   "outputs": [
    {
     "name": "stdout",
     "output_type": "stream",
     "text": [
      "confusion_matrix [[7 0 0]\n",
      " [0 7 0]\n",
      " [1 2 1]]\n"
     ]
    }
   ],
   "source": [
    "# You almost never get 100% accuracy; to check where the error may come from use a confusion matrix\n",
    "print(\"confusion_matrix\", confusion_matrix(y_test, y_pred))\n",
    "    "
   ]
  },
  {
   "cell_type": "code",
   "execution_count": 9,
   "metadata": {},
   "outputs": [
    {
     "name": "stdout",
     "output_type": "stream",
     "text": [
      "classification_report               precision    recall  f1-score   support\n",
      "\n",
      "     class_0       0.88      1.00      0.93         7\n",
      "     class_1       0.78      1.00      0.88         7\n",
      "     class_2       1.00      0.25      0.40         4\n",
      "\n",
      "    accuracy                           0.83        18\n",
      "   macro avg       0.88      0.75      0.74        18\n",
      "weighted avg       0.86      0.83      0.79        18\n",
      "\n"
     ]
    }
   ],
   "source": [
    "# You can calculate true positive etc. from the confusion matrix....or use scikit to do it for you. What is the difference\n",
    "# between precision and recall (do not mind micro avg. etc.)\n",
    "\n",
    "print(\"classification_report\", classification_report(y_test, y_pred,\n",
    "                   target_names=dataset.target_names))"
   ]
  },
  {
   "cell_type": "code",
   "execution_count": 10,
   "metadata": {},
   "outputs": [
    {
     "data": {
      "text/plain": "DecisionTreeClassifier()"
     },
     "execution_count": 10,
     "metadata": {},
     "output_type": "execute_result"
    }
   ],
   "source": [
    "# You think the model could do better? You called the decision tree with default values; anything you would like to change?\n",
    "# If so, train the model with a different configuration and test it again. Will your evaluation metric change? If so, how?\n",
    "\n",
    "tree.DecisionTreeClassifier()"
   ]
  }
 ],
 "metadata": {
  "kernelspec": {
   "name": "python3",
   "language": "python",
   "display_name": "Python 3"
  },
  "language_info": {
   "codemirror_mode": {
    "name": "ipython",
    "version": 2
   },
   "file_extension": ".py",
   "mimetype": "text/x-python",
   "name": "python",
   "nbconvert_exporter": "python",
   "pygments_lexer": "ipython2",
   "version": "2.7.12"
  }
 },
 "nbformat": 4,
 "nbformat_minor": 2
}