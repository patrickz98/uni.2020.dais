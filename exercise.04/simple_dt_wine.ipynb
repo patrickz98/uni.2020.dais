{
 "cells": [
  {
   "cell_type": "code",
   "execution_count": 1,
   "metadata": {},
   "outputs": [],
   "source": [
    "# Decision Tree\n",
    "# Import everything you need\n",
    "from sklearn.datasets import load_wine\n",
    "from sklearn.model_selection import train_test_split\n",
    "from sklearn import tree\n",
    "from sklearn import metrics\n",
    "from sklearn.metrics import classification_report,confusion_matrix\n"
   ]
  },
  {
   "cell_type": "code",
   "execution_count": 2,
   "metadata": {},
   "outputs": [
    {
     "name": "stdout",
     "output_type": "stream",
     "text": [
      "('Accuracy: ', '88.89', '%')\n"
     ]
    }
   ],
   "source": [
    "# Load the data ... \n",
    "dataset = load_wine()\n",
    "\n",
    "# Split it in train and test set (mind the value for test_size and random_state- how does they affect your model?)\n",
    "X_train, X_test, y_train, y_test = train_test_split(dataset.data, dataset.target, test_size=0.10, random_state = 42)\n",
    "\n",
    "# Initialize a model and train it (yes, it is actually just the *.fit() call)\n",
    "dt_wine = tree.DecisionTreeClassifier()\n",
    "dt_wine = dt_wine.fit(X_train,y_train)\n",
    "\n",
    "# Compute the predictions with your trained model\n",
    "y_pred = dt_wine.predict(X_test)\n",
    "\n",
    "# Get a first impression: How did it work?\n",
    "test_accuracy= metrics.accuracy_score(y_test, y_pred)\n",
    "print(\"Accuracy: \", '%.2f'% (test_accuracy*100),\"%\")\n"
   ]
  },
  {
   "cell_type": "code",
   "execution_count": 3,
   "metadata": {},
   "outputs": [
    {
     "name": "stdout",
     "output_type": "stream",
     "text": [
      "[[6 1 0]\n",
      " [0 7 0]\n",
      " [0 1 3]]\n"
     ]
    }
   ],
   "source": [
    "# You almost never get 100% accuracy; to check where the error may come from use a confusion matrix\n",
    "print(confusion_matrix(y_test, y_pred))\n",
    "    "
   ]
  },
  {
   "cell_type": "code",
   "execution_count": 4,
   "metadata": {},
   "outputs": [
    {
     "name": "stdout",
     "output_type": "stream",
     "text": [
      "              precision    recall  f1-score   support\n",
      "\n",
      "     class_0       1.00      0.86      0.92         7\n",
      "     class_1       0.78      1.00      0.88         7\n",
      "     class_2       1.00      0.75      0.86         4\n",
      "\n",
      "   micro avg       0.89      0.89      0.89        18\n",
      "   macro avg       0.93      0.87      0.89        18\n",
      "weighted avg       0.91      0.89      0.89        18\n",
      "\n"
     ]
    }
   ],
   "source": [
    "# You can calculate true positive etc. from the confusion matrix....or use scikit to do it for you. What is the difference\n",
    "# between precision and recall (do not mind micro avg. etc.)\n",
    "\n",
    "print(classification_report(y_test, y_pred, \n",
    "                   target_names=dataset.target_names))"
   ]
  },
  {
   "cell_type": "code",
   "execution_count": 5,
   "metadata": {},
   "outputs": [
    {
     "data": {
      "text/plain": [
       "DecisionTreeClassifier(class_weight=None, criterion='gini', max_depth=None,\n",
       "            max_features=None, max_leaf_nodes=None,\n",
       "            min_impurity_decrease=0.0, min_impurity_split=None,\n",
       "            min_samples_leaf=1, min_samples_split=2,\n",
       "            min_weight_fraction_leaf=0.0, presort=False, random_state=None,\n",
       "            splitter='best')"
      ]
     },
     "execution_count": 5,
     "metadata": {},
     "output_type": "execute_result"
    }
   ],
   "source": [
    "# You think the model could do better? You called the decision tree with default values; anything you would like to change?\n",
    "# If so, train the model with a different configuration and test it again. Will your evaluation metric change? If so, how?\n",
    "\n",
    "tree.DecisionTreeClassifier()"
   ]
  }
 ],
 "metadata": {
  "kernelspec": {
   "display_name": "Python 2",
   "language": "python",
   "name": "python2"
  },
  "language_info": {
   "codemirror_mode": {
    "name": "ipython",
    "version": 2
   },
   "file_extension": ".py",
   "mimetype": "text/x-python",
   "name": "python",
   "nbconvert_exporter": "python",
   "pygments_lexer": "ipython2",
   "version": "2.7.12"
  }
 },
 "nbformat": 4,
 "nbformat_minor": 2
}
