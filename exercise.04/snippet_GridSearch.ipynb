{
 "cells": [
  {
   "cell_type": "code",
   "execution_count": null,
   "metadata": {},
   "outputs": [],
   "source": [
    "'''An even easier approach (and even more \"black box\") can be achieved using grid search. \n",
    "*Adapt* this code for the integration into your experiments'''\n",
    "\n",
    "# Import gridsearch with crossvalidation \n",
    "from sklearn.model_selection import GridSearchCV\n",
    "\n",
    "# Get some data; please use X for the datapoints and y for the labels, or rename and change it accordingly\n",
    "\n",
    "param_range = list(range(?, ?))\n",
    "# Check if you defined the correct range of values\n",
    "print(param_range)\n",
    "\n",
    "#eta=[(i+1)/10.0 for i in range(10)] \n",
    "#print eta\n",
    "\n",
    "# create a parameter grid: map the parameter names to the values that should be searched\n",
    "param_grid = dict(param_name=param_range) # 'param_name' is really just the name of the parameter\n",
    "print(param_grid)\n",
    "\n",
    "\n",
    "# Setup the grid with your classifier and the default cross-validation value k=10\n",
    "grid = GridSearchCV(yourClassifier, param_grid, cv=10, scoring='accuracy')\n",
    "\n",
    "# ... and train it as before\n",
    "grid.fit(X, y)\n",
    "\n",
    "# Get the mean accuracy over all folds\n",
    "grid_mean_scores = grid.cv_results_['mean_test_score']\n",
    "print(grid_mean_scores)\n",
    "\n",
    "# It is also important to get the standard deviation per fold \n",
    "grid_std_score= grid.cv_results_['std_test_score']\n",
    "print(grid_mean_scores)\n",
    "\n",
    "# Even more high-level, we can just use 'pandas' to print it nicer\n",
    "import pandas as pd\n",
    "pd.DataFrame(grid.cv_results_)[['mean_test_score', 'std_test_score', 'params']]\n",
    "\n",
    "# But usually, we are interested in the best fit, which returns the best achieved accuracy over all folds and the value\n",
    "# for the parameter under investigation\n",
    "\n",
    "print(grid.best_score_)\n",
    "print(grid.best_params_)\n",
    "\n",
    "# Of course, you can also use several parameters at once. You just have to add the range and adapt the grid call\n",
    "# However, training may take a while and to analyse the results may get messy, which is why it is optional\n",
    "\n",
    "param1 = list(range(?, ?)) #or define for float\n",
    "param2 = list(range(?, ?))\n",
    "\n"
   ]
  }
 ],
 "metadata": {
  "kernelspec": {
   "display_name": "Python 2",
   "language": "python",
   "name": "python2"
  },
  "language_info": {
   "codemirror_mode": {
    "name": "ipython",
    "version": 2
   },
   "file_extension": ".py",
   "mimetype": "text/x-python",
   "name": "python",
   "nbconvert_exporter": "python",
   "pygments_lexer": "ipython2",
   "version": "2.7.12"
  }
 },
 "nbformat": 4,
 "nbformat_minor": 2
}
