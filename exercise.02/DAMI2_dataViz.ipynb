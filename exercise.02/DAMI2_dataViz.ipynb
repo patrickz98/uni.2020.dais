{
 "cells": [
  {
   "cell_type": "code",
   "execution_count": null,
   "metadata": {},
   "outputs": [],
   "source": [
    "'''\n",
    "This is a starting template to get you into data visualizations and interpretation. Customize\n",
    "this file and comment out part which you do not need.\n",
    "We will be using the functionality of the matplotlib library and other libraries, so we import them.'''\n",
    "\n",
    "import matplotlib.pyplot as plt\n",
    "import numpy as np\n",
    "from numpy import *\n",
    " \n"
   ]
  },
  {
   "cell_type": "code",
   "execution_count": null,
   "metadata": {},
   "outputs": [],
   "source": [
    "# Get some data from your data folder\n",
    "\n",
    "data = loadtxt('.dat')\n",
    "\n",
    "'''You can choose from a set of basic plots. Check out the correct function arguments to correctly display the data,\n",
    "e.g. plt.boxplot(x_data, y_data)'''\n",
    " \n",
    "plt.pie()\n",
    "\n",
    "plt.hist()\n",
    "\n",
    "plt.bar()\n",
    "\n",
    "plt.boxplot()\n",
    "\n",
    "# Never forget to label the axes, if there axes to label, and to give some additional information if you think it is useful\n",
    " \n",
    "plt.xlabel('Your x-label')\n",
    "plt.ylabel('Your y-label')\n",
    "plt.title('Your title')\n",
    "plt.legend() \n",
    " \n",
    "# You can also change the scale (ticks) \n",
    "plt.xticks([], [])\n",
    "plt.yticks([], [])\n",
    "\n"
   ]
  },
  {
   "cell_type": "code",
   "execution_count": null,
   "metadata": {},
   "outputs": [],
   "source": []
  }
 ],
 "metadata": {
  "kernelspec": {
   "display_name": "Python 3",
   "language": "python",
   "name": "python3"
  },
  "language_info": {
   "codemirror_mode": {
    "name": "ipython",
    "version": 3
   },
   "file_extension": ".py",
   "mimetype": "text/x-python",
   "name": "python",
   "nbconvert_exporter": "python",
   "pygments_lexer": "ipython3",
   "version": "3.8.2"
  }
 },
 "nbformat": 4,
 "nbformat_minor": 2
}
