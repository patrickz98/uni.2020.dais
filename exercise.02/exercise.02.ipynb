{
 "cells": [
  {
   "cell_type": "markdown",
   "source": [
    "# Exercise 02"
   ],
   "metadata": {
    "collapsed": false
   }
  },
  {
   "cell_type": "markdown",
   "source": [
    "# Task 1"
   ],
   "metadata": {
    "collapsed": false
   }
  },
  {
   "cell_type": "code",
   "execution_count": 42,
   "outputs": [
    {
     "name": "stdout",
     "output_type": "stream",
     "text": [
      "Grades lecture data\n"
     ]
    },
    {
     "data": {
      "text/plain": "<Figure size 432x288 with 1 Axes>",
      "image/png": "[encoded data removed]"
     },
     "metadata": {
      "needs_background": "light"
     },
     "output_type": "display_data"
    },
    {
     "data": {
      "text/plain": "<Figure size 432x288 with 1 Axes>",
      "image/png": "[encoded data removed]"
     },
     "metadata": {
      "needs_background": "light"
     },
     "output_type": "display_data"
    }
   ],
   "source": [
    "import matplotlib.pyplot as plt\n",
    "\n",
    "dataDir = \"DAMI2-PlotData\"\n",
    "\n",
    "def read_grades(file: str) -> [int]:\n",
    "\n",
    "    with open(file, \"r\") as file:\n",
    "        content = file.read().strip()\n",
    "        grades = [int(line) for line in content.split(\"\\n\")[2:]]\n",
    "\n",
    "    return grades\n",
    "\n",
    "\n",
    "def analyse_grades():\n",
    "    grades1 = read_grades(dataDir + \"/Grades_lecture1.dat\")\n",
    "    grades2 = read_grades(dataDir + \"/Grades_lecture2.dat\")\n",
    "\n",
    "    grades1_count = []\n",
    "    grades2_count = []\n",
    "    for grade in range(1, 6):\n",
    "        grades1_count += [grades1.count(grade)]\n",
    "        grades2_count += [grades2.count(grade)]\n",
    "\n",
    "    print(\"Grades lecture data\")\n",
    "    langs = [str(x) for x in range(1, 6)]\n",
    "    plt.figure()\n",
    "    plt.bar(langs, grades1_count)\n",
    "    plt.figure()\n",
    "    plt.bar(langs, grades2_count)\n",
    "    plt.show()\n",
    "\n",
    "\n",
    "analyse_grades()"
   ],
   "metadata": {
    "collapsed": false,
    "pycharm": {
     "name": "#%%\n"
    }
   }
  },
  {
   "cell_type": "code",
   "execution_count": 43,
   "outputs": [
    {
     "name": "stdout",
     "output_type": "stream",
     "text": [
      "DAMI2-PlotData\n"
     ]
    }
   ],
   "source": [
    "\n",
    "print(dataDir)"
   ],
   "metadata": {
    "collapsed": false,
    "pycharm": {
     "name": "#%%\n"
    }
   }
  }
 ],
 "metadata": {
  "kernelspec": {
   "name": "pycharm-c18d0779",
   "language": "python",
   "display_name": "PyCharm (uni.2020.dias)"
  },
  "language_info": {
   "codemirror_mode": {
    "name": "ipython",
    "version": 2
   },
   "file_extension": ".py",
   "mimetype": "text/x-python",
   "name": "python",
   "nbconvert_exporter": "python",
   "pygments_lexer": "ipython2",
   "version": "2.7.6"
  }
 },
 "nbformat": 4,
 "nbformat_minor": 0
}