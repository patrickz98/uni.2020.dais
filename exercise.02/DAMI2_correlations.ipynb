{
 "cells": [
  {
   "cell_type": "code",
   "execution_count": null,
   "metadata": {},
   "outputs": [],
   "source": [
    "''' In this task, we want to explore possible correlations among variables, respectively, data points. To make statements\n",
    "about presence of absence of any kind of relationship we can express this both\n",
    "in a quantitive way (computation of a correlation measure) and in a qualitative way, i.e.\n",
    "using data visualization. '''\n",
    "\n",
    "# Computation of correlation coefficient. \n",
    " \n",
    "import numpy as np\n",
    "import matplotlib\n",
    "import matplotlib.pyplot as plt\n",
    "%matplotlib inline\n",
    "matplotlib.style.use('ggplot')\n",
    "\n",
    "np.random.seed(1)\n",
    "\n",
    "\n",
    "\n",
    "\n",
    "\n",
    "\n"
   ]
  },
  {
   "cell_type": "code",
   "execution_count": null,
   "metadata": {},
   "outputs": [],
   "source": [
    "# 1000 random integers between 0 and 50\n",
    "\n",
    "x_data = np.random.randint(0, 50, 1000)\n",
    "y_data = x_data + np.random.normal(0, 10, 1000)\n",
    "\n",
    "# Is the correlation positive, negative or is there no correlation?\n",
    "\n",
    "correlation_coefficient = np.corrcoef(x_data, y_data)\n",
    "print(correlation_coefficient)\n",
    "\n",
    "# You can also visualize your data and see if you interpreted the correlation measure correctly\n",
    "\n",
    "\n",
    "\n",
    "# Which visualization to use here you learnt in lecture 3\n",
    "\n",
    "plt.scatter(x_data, y_data)\n"
   ]
  },
  {
   "cell_type": "code",
   "execution_count": null,
   "metadata": {},
   "outputs": [],
   "source": [
    "# Let us try another example\n",
    "\n",
    "x_data2 = np.random.randint(0, 50, 1000)\n",
    "y_data2 = 100 - x_data2 + np.random.normal(0, 5, 1000)\n",
    "correlation_coefficient = np.corrcoef(x_data2, y_data2)\n",
    "print(correlation_coefficient)\n",
    "\n",
    "plt.scatter(x_data2,y_data2)\n",
    "\n"
   ]
  },
  {
   "cell_type": "code",
   "execution_count": null,
   "metadata": {},
   "outputs": [],
   "source": [
    "# Ok, now it is your turn.\n",
    "x = np.random.randint(0, 50, 1000)\n",
    "y = np.random.randint(0, 50, 1000)\n",
    "correlation_coefficient = np.corrcoef(x, y)\n",
    "print(correlation_coefficient)\n",
    "\n",
    "plt.scatter(x,y)\n"
   ]
  },
  {
   "cell_type": "code",
   "execution_count": null,
   "metadata": {},
   "outputs": [],
   "source": []
  }
 ],
 "metadata": {
  "kernelspec": {
   "display_name": "Python 3",
   "language": "python",
   "name": "python3"
  },
  "language_info": {
   "codemirror_mode": {
    "name": "ipython",
    "version": 3
   },
   "file_extension": ".py",
   "mimetype": "text/x-python",
   "name": "python",
   "nbconvert_exporter": "python",
   "pygments_lexer": "ipython3",
   "version": "3.8.2"
  }
 },
 "nbformat": 4,
 "nbformat_minor": 2
}
